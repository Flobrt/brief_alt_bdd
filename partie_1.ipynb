{
 "cells": [
  {
   "cell_type": "markdown",
   "metadata": {},
   "source": [
    "#### Qu'est ce que SQLAlchemy ?\n",
    "\n",
    "SQLAlchemy est un ORM qui permet de faire des requetes sur une base de données. Il permet de se connecter et requeter une base de données relationnelle de manière sécuriser et en python. "
   ]
  },
  {
   "cell_type": "code",
   "execution_count": 2,
   "metadata": {},
   "outputs": [],
   "source": [
    "from sqlalchemy import create_engine, text, Table, Column, Integer,Float, String, MetaData\n",
    "import pandas as pd"
   ]
  },
  {
   "cell_type": "code",
   "execution_count": 3,
   "metadata": {},
   "outputs": [],
   "source": [
    "# connexion à la db mysql\n",
    "def connexion(user, password, host, port, database):\n",
    "    try:\n",
    "        engine = create_engine(f\"mysql+pymysql://{user}:{password}@{host}:{port}\")\n",
    "        conn = engine.connect()\n",
    "\n",
    "        conn.execute(text(f\"CREATE DATABASE IF NOT EXISTS {database}\"))\n",
    "        print(f\"Database {database} created\")\n",
    "        engine = create_engine(f\"mysql+pymysql://{user}:{password}@{host}:{port}/{database}\")\n",
    "        conn = engine.connect()\n",
    "    \n",
    "        return conn, engine\n",
    "    except Exception as e:\n",
    "        print(e)\n",
    "        return None, None"
   ]
  },
  {
   "cell_type": "code",
   "execution_count": 4,
   "metadata": {},
   "outputs": [],
   "source": [
    "# ouverture des fichiers \n",
    "def open_file(file):\n",
    "    try: \n",
    "        df = pd.read_csv(file)\n",
    "        return df\n",
    "    except Exception as e:\n",
    "        print(e)\n",
    "        return None"
   ]
  },
  {
   "cell_type": "code",
   "execution_count": 5,
   "metadata": {},
   "outputs": [],
   "source": [
    "# création de la table\n",
    "def infer_sqlalchemy_type(dtype):\n",
    "    \"\"\" Map pandas dtype to SQLAlchemy's types \"\"\"\n",
    "    if \"int\" in dtype.name:\n",
    "        return Integer\n",
    "    elif \"float\" in dtype.name:\n",
    "        return Float\n",
    "    elif \"object\" in dtype.name:\n",
    "        return String(255)\n",
    "    else:\n",
    "        return String(255)"
   ]
  },
  {
   "cell_type": "code",
   "execution_count": 6,
   "metadata": {},
   "outputs": [],
   "source": [
    "# Create table \n",
    "def create_table(df, engine, table_name):\n",
    "    metadata = MetaData()\n",
    "\n",
    "    columns = [Column(name, infer_sqlalchemy_type(dtype)) for name, dtype in df.dtypes.items()]\n",
    "    table = Table(table_name, metadata, *columns)\n",
    "\n",
    "    table.create(engine)"
   ]
  },
  {
   "cell_type": "code",
   "execution_count": 7,
   "metadata": {},
   "outputs": [
    {
     "name": "stdout",
     "output_type": "stream",
     "text": [
      "Database brief2 created\n"
     ]
    },
    {
     "name": "stderr",
     "output_type": "stream",
     "text": [
      "/tmp/ipykernel_69388/2642612893.py:7: RemovedIn20Warning: Deprecated API features detected! These feature(s) are not compatible with SQLAlchemy 2.0. To prevent incompatible upgrades prior to updating applications, ensure requirements files are pinned to \"sqlalchemy<2.0\". Set environment variable SQLALCHEMY_WARN_20=1 to show all deprecation warnings.  Set environment variable SQLALCHEMY_SILENCE_UBER_WARNING=1 to silence this message. (Background on SQLAlchemy 2.0 at: https://sqlalche.me/e/b8d9)\n",
      "  conn.execute(text(f\"CREATE DATABASE IF NOT EXISTS {database}\"))\n"
     ]
    }
   ],
   "source": [
    "# Connexion à la base de données mariadb et création de la base de données brief2\n",
    "conn, engine = connexion(\"root\", \"password\", \"localhost\", \"3306\", \"brief2_csv\")"
   ]
  },
  {
   "cell_type": "code",
   "execution_count": 8,
   "metadata": {},
   "outputs": [],
   "source": [
    "df_client = pd.read_csv(\"data/data-csv/data-csv/clients.csv\", sep=\";\")\n",
    "df_client.drop_duplicates(inplace=True)\n",
    "df_product = pd.read_csv(\"data/data-csv/data-csv/produits_sous-categorie.csv\", sep=\";\")\n",
    "df_product.drop_duplicates(inplace=True)\n",
    "df_vente = pd.read_csv(\"data/data-csv/data-csv/ventes.csv\", sep=\";\")\n",
    "df_vente.drop_duplicates(inplace=True)\n",
    "\n",
    "df_list = [df_client, df_product, df_vente]\n",
    "df_name = [\"clients\", \"produits\", \"ventes\"]"
   ]
  },
  {
   "cell_type": "code",
   "execution_count": 9,
   "metadata": {},
   "outputs": [
    {
     "name": "stdout",
     "output_type": "stream",
     "text": [
      "Table clients already exists\n",
      "Table produits already exists\n",
      "Table ventes already exists\n"
     ]
    }
   ],
   "source": [
    "for df, df_name in zip(df_list, df_name):\n",
    "    # Si la table n'existe pas \n",
    "    if not engine.dialect.has_table(conn, df_name):\n",
    "        create_table(df, engine, df_name)\n",
    "        print(f\"Table {df_name} created\")\n",
    "    print(f\"Table {df_name} already exists\")"
   ]
  },
  {
   "cell_type": "code",
   "execution_count": 11,
   "metadata": {},
   "outputs": [
    {
     "data": {
      "text/plain": [
       "8600"
      ]
     },
     "execution_count": 11,
     "metadata": {},
     "output_type": "execute_result"
    }
   ],
   "source": [
    "df_vente.to_sql('ventes', con=engine, if_exists='replace', index=False)\n",
    "df_product.to_sql('produits', con=engine, if_exists='replace', index=False)\n",
    "df_client.to_sql('clients', con=engine, if_exists='replace', index=False)"
   ]
  },
  {
   "cell_type": "code",
   "execution_count": 12,
   "metadata": {},
   "outputs": [
    {
     "name": "stdout",
     "output_type": "stream",
     "text": [
      "Database brief2_json created\n"
     ]
    }
   ],
   "source": [
    "# Connexion à la base de données mariadb et création de la base de données brief2\n",
    "conn, engine = connexion(\"root\", \"password\", \"localhost\", \"3306\", \"brief2_json\")"
   ]
  },
  {
   "cell_type": "code",
   "execution_count": 18,
   "metadata": {},
   "outputs": [],
   "source": [
    "df_client = pd.read_json(\"data/data-json/data-json/clients.json\")\n",
    "df_client.drop_duplicates(inplace=True)\n",
    "df_product = pd.read_json(\"data/data-json/data-json/produits_sous-categorie.json\")\n",
    "df_product.drop_duplicates(inplace=True)\n",
    "df_vente = pd.read_json(\"data/data-json/data-json/ventes.json\")\n",
    "df_vente.drop_duplicates(inplace=True)"
   ]
  },
  {
   "cell_type": "code",
   "execution_count": 16,
   "metadata": {},
   "outputs": [
    {
     "name": "stdout",
     "output_type": "stream",
     "text": [
      "<class 'pandas.core.frame.DataFrame'>\n",
      "Index: 8600 entries, 0 to 324624\n",
      "Data columns (total 3 columns):\n",
      " #   Column     Non-Null Count  Dtype \n",
      "---  ------     --------------  ----- \n",
      " 0   client_id  8600 non-null   object\n",
      " 1   sex        8600 non-null   object\n",
      " 2   birth      8600 non-null   int64 \n",
      "dtypes: int64(1), object(2)\n",
      "memory usage: 268.8+ KB\n"
     ]
    }
   ],
   "source": [
    "df_client.info()"
   ]
  },
  {
   "cell_type": "code",
   "execution_count": null,
   "metadata": {},
   "outputs": [],
   "source": [
    "df_list = [df_client, df_product, df_vente]\n",
    "df_name = [\"clients\", \"produits\", \"ventes\"]"
   ]
  },
  {
   "cell_type": "code",
   "execution_count": null,
   "metadata": {},
   "outputs": [],
   "source": []
  }
 ],
 "metadata": {
  "kernelspec": {
   "display_name": "pyspark",
   "language": "python",
   "name": "python3"
  },
  "language_info": {
   "codemirror_mode": {
    "name": "ipython",
    "version": 3
   },
   "file_extension": ".py",
   "mimetype": "text/x-python",
   "name": "python",
   "nbconvert_exporter": "python",
   "pygments_lexer": "ipython3",
   "version": "3.8.3"
  }
 },
 "nbformat": 4,
 "nbformat_minor": 2
}
